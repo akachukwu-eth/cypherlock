{
 "cells": [
  {
   "cell_type": "code",
   "execution_count": 2,
   "id": "3c7d19ae",
   "metadata": {},
   "outputs": [
    {
     "name": "stdout",
     "output_type": "stream",
     "text": [
      "Type a message here...Good Morning Ladies and Gentlemen\n",
      "Encrypted message: Jrrg Pruqlqj Odglhv dqg Jhqwohphq\n",
      "Decrypted message: Good Morning Ladies and Gentlemen\n"
     ]
    }
   ],
   "source": [
    "def encrypt(text, shift):\n",
    "    result = \"\"\n",
    "\n",
    "    for char in text:\n",
    "        if char.isalpha():\n",
    "            ascii_offset = 65 if char.isupper() else 97\n",
    "            shifted_char = chr((ord(char) - ascii_offset + shift) % 26 + ascii_offset)\n",
    "            result += shifted_char\n",
    "        else:\n",
    "            result += char\n",
    "\n",
    "    return result\n",
    "\n",
    "def decrypt(text, shift):\n",
    "    return encrypt(text, -shift)\n",
    "\n",
    "# Example usage:\n",
    "message = input(\"Type a message here...\");\n",
    "shift = 3\n",
    "\n",
    "encrypted_message = encrypt(message, shift)\n",
    "print(f\"Encrypted message: {encrypted_message}\")\n",
    "\n",
    "decrypted_message = decrypt(encrypted_message, shift)\n",
    "print(f\"Decrypted message: {decrypted_message}\")\n"
   ]
  },
  {
   "cell_type": "code",
   "execution_count": null,
   "id": "b2270ae2",
   "metadata": {},
   "outputs": [],
   "source": []
  }
 ],
 "metadata": {
  "kernelspec": {
   "display_name": "Python 3 (ipykernel)",
   "language": "python",
   "name": "python3"
  },
  "language_info": {
   "codemirror_mode": {
    "name": "ipython",
    "version": 3
   },
   "file_extension": ".py",
   "mimetype": "text/x-python",
   "name": "python",
   "nbconvert_exporter": "python",
   "pygments_lexer": "ipython3",
   "version": "3.11.0"
  }
 },
 "nbformat": 4,
 "nbformat_minor": 5
}
